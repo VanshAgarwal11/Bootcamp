{
  "nbformat": 4,
  "nbformat_minor": 0,
  "metadata": {
    "colab": {
      "name": "Basic.ipynb",
      "provenance": [],
      "authorship_tag": "ABX9TyNF88UmirpxSp0TGNPp1kP0",
      "include_colab_link": true
    },
    "kernelspec": {
      "name": "python3",
      "display_name": "Python 3"
    }
  },
  "cells": [
    {
      "cell_type": "markdown",
      "metadata": {
        "id": "view-in-github",
        "colab_type": "text"
      },
      "source": [
        "<a href=\"https://colab.research.google.com/github/vansh1104/Bootcamp/blob/VanshAI/Basic.ipynb\" target=\"_parent\"><img src=\"https://colab.research.google.com/assets/colab-badge.svg\" alt=\"Open In Colab\"/></a>"
      ]
    },
    {
      "cell_type": "code",
      "metadata": {
        "id": "4buN3BtFNoN_",
        "outputId": "dde708b6-b63b-43bb-e8d2-f06d6397a32e",
        "colab": {
          "base_uri": "https://localhost:8080/",
          "height": 35
        }
      },
      "source": [
        "'''author @Vansh Agarwal\n",
        "  platform @Google Colab\n",
        "  Version  @3.9.0'''\n",
        "  ####################### Simple Calculator #######################"
      ],
      "execution_count": null,
      "outputs": [
        {
          "output_type": "execute_result",
          "data": {
            "application/vnd.google.colaboratory.intrinsic+json": {
              "type": "string"
            },
            "text/plain": [
              "'author @Vansh Agarwal\\n  platform @Google Colab\\n  Version  @3.9.0'"
            ]
          },
          "metadata": {
            "tags": []
          },
          "execution_count": 1
        }
      ]
    },
    {
      "cell_type": "code",
      "metadata": {
        "id": "2aOM3wQaOOuq",
        "outputId": "66e5a20a-e9b5-4b30-dbc0-a1eebbbd7128",
        "colab": {
          "base_uri": "https://localhost:8080/"
        }
      },
      "source": [
        "# Agenda: Take two numbers to perform Arithmetic Functions\n",
        "num1=int(input(\"Enter first Number\"))\n",
        "num2=int(input(\"Enter Second Number\"))"
      ],
      "execution_count": null,
      "outputs": [
        {
          "output_type": "stream",
          "text": [
            "Enter first Number10\n",
            "Enter Second Number30\n"
          ],
          "name": "stdout"
        }
      ]
    },
    {
      "cell_type": "code",
      "metadata": {
        "id": "xmTfIWNbO0gM"
      },
      "source": [
        "add=num1+num2\n",
        "sub=num1-num2\n",
        "product=num1*num2\n",
        "division=num1/num2\n",
        "modulus= num1%num2\n",
        "floordiv= num1//num2\n",
        "exponent= num1**num2"
      ],
      "execution_count": null,
      "outputs": []
    },
    {
      "cell_type": "code",
      "metadata": {
        "id": "9g-WCXtOPVgF",
        "outputId": "47a1ad3b-89e0-4db8-aaa9-404d5cc67a5f",
        "colab": {
          "base_uri": "https://localhost:8080/"
        }
      },
      "source": [
        "print(\"addistion is: \\t\",add)\n",
        "print(\"Difference is: \\t\",sub)\n",
        "print(\"Product is: \\t\",product)\n",
        "print(\"Division is: \\t\",division)\n",
        "print(\"Modulus is: \\t\",modulus)\n",
        "print(\"floordiv is: \\t\",floordiv)\n",
        "print(\"exponent is: \\t\",exponent)"
      ],
      "execution_count": null,
      "outputs": [
        {
          "output_type": "stream",
          "text": [
            "addistion is: \t 40\n",
            "Difference is: \t -20\n",
            "Product is: \t 300\n",
            "Division is: \t 0.3333333333333333\n",
            "Modulus is: \t 10\n",
            "floordiv is: \t 0\n",
            "exponent is: \t 1000000000000000000000000000000\n"
          ],
          "name": "stdout"
        }
      ]
    }
  ]
}