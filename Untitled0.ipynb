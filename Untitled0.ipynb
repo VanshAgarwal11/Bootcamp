{
  "nbformat": 4,
  "nbformat_minor": 0,
  "metadata": {
    "colab": {
      "name": "Untitled0.ipynb",
      "provenance": [],
      "collapsed_sections": [],
      "authorship_tag": "ABX9TyP5kDy+A2dsm5gCxqKgOiyH",
      "include_colab_link": true
    },
    "kernelspec": {
      "name": "python3",
      "display_name": "Python 3"
    }
  },
  "cells": [
    {
      "cell_type": "markdown",
      "metadata": {
        "id": "view-in-github",
        "colab_type": "text"
      },
      "source": [
        "<a href=\"https://colab.research.google.com/github/vansh1104/Bootcamp/blob/Google-Colab/Untitled0.ipynb\" target=\"_parent\"><img src=\"https://colab.research.google.com/assets/colab-badge.svg\" alt=\"Open In Colab\"/></a>"
      ]
    },
    {
      "cell_type": "code",
      "metadata": {
        "colab": {
          "base_uri": "https://localhost:8080/"
        },
        "id": "3gcb3pTBU8SK",
        "outputId": "6332cef8-5775-40ee-f387-7311625f879e"
      },
      "source": [
        "def intro(name,age,city,state):\n",
        "  return name,age,city,state\n",
        "\n",
        "name1=input(\"Enter your name:\")\n",
        "age1=int(input(\"Enter your age:\"))\n",
        "city1=input(\"Enter your city:\")\n",
        "state1=input(\"Enter your state:\")\n",
        "\n",
        "name2,age2,city2,state2=intro(name1,age1,city1,state1)\n",
        "\n",
        "print(\"My name is {0} \\t,my city is {1} \\t , my age is {2} , my state is {3}\".format(name2,city2,age2,state2))"
      ],
      "execution_count": null,
      "outputs": [
        {
          "output_type": "stream",
          "text": [
            "Enter your name:Vansh\n",
            "Enter your age:17\n",
            "Enter your city:h\n",
            "Enter your state:u\n",
            "My name is Vansh \t , my city is h \t , my age is 17 , my state is u\n"
          ],
          "name": "stdout"
        }
      ]
    },
    {
      "cell_type": "code",
      "metadata": {
        "id": "PkMQUzyZouZu"
      },
      "source": [
        ""
      ],
      "execution_count": null,
      "outputs": []
    },
    {
      "cell_type": "code",
      "metadata": {
        "id": "r_0idSnVe7jy",
        "colab": {
          "base_uri": "https://localhost:8080/"
        },
        "outputId": "1bc8e166-359b-423f-b3fc-28959e90a4ab"
      },
      "source": [
        "#*args\n",
        "def addition(*numbers):\n",
        "  sum=0\n",
        "  for i in numbers:\n",
        "    sum=sum+i\n",
        "  return sum\n",
        "\n",
        "result=addition(10,20,30,40,50,60)\n",
        "print(\"the sum is equal to \\t{0}\".format(result))"
      ],
      "execution_count": null,
      "outputs": [
        {
          "output_type": "stream",
          "text": [
            "the sum is equal to \t210\n"
          ],
          "name": "stdout"
        }
      ]
    },
    {
      "cell_type": "code",
      "metadata": {
        "colab": {
          "base_uri": "https://localhost:8080/"
        },
        "id": "sRdXXgzoh3GP",
        "outputId": "87811874-57c1-4338-e09f-036b8d7e394a"
      },
      "source": [
        "def additionsusers(list):\n",
        "  sum=0\n",
        "  for i in list:\n",
        "    sum+=i\n",
        "  return sum\n",
        "\n",
        "limit=int(input(\"Enter the limit\"))\n",
        "\n",
        "empty=[]\n",
        "for i in range(0,limit):\n",
        "  val=int(input(\"enter value\"))\n",
        "  empty.append(val)\n",
        "\n",
        "result= additionsusers(empty)\n",
        "\n",
        "print( \"here is the result \\t {0}\".format(result))"
      ],
      "execution_count": null,
      "outputs": [
        {
          "output_type": "stream",
          "text": [
            "Enter the limit3\n",
            "enter value10\n",
            "enter value20\n",
            "enter value30\n",
            "here is the result \t 60\n"
          ],
          "name": "stdout"
        }
      ]
    },
    {
      "cell_type": "markdown",
      "metadata": {
        "id": "dupCX7GA2YGq"
      },
      "source": [
        "****kwargs**"
      ]
    },
    {
      "cell_type": "code",
      "metadata": {
        "colab": {
          "base_uri": "https://localhost:8080/"
        },
        "id": "WKbLsHTs2chL",
        "outputId": "7ba44031-c6fe-433f-8d41-aa1f7ef75899"
      },
      "source": [
        "def keywords(**values):\n",
        "  for i,j in values.items():\n",
        "    print('{0}={1}'.format(i,j))\n",
        "keywords(name='Vansh',age=17,state='UK')"
      ],
      "execution_count": null,
      "outputs": [
        {
          "output_type": "stream",
          "text": [
            "name=Vansh\n",
            "age=17\n",
            "state=UK\n"
          ],
          "name": "stdout"
        }
      ]
    },
    {
      "cell_type": "code",
      "metadata": {
        "colab": {
          "base_uri": "https://localhost:8080/"
        },
        "id": "r6bGW74-4jvn",
        "outputId": "3399c99f-ac05-4e96-ca42-9c5da465cb2d"
      },
      "source": [
        "def variables(list):\n",
        "  for i in list:\n",
        "    print(i+5)\n",
        "=variables([5,10,15,20,25])"
      ],
      "execution_count": null,
      "outputs": [
        {
          "output_type": "stream",
          "text": [
            "10\n",
            "15\n",
            "20\n",
            "25\n",
            "30\n"
          ],
          "name": "stdout"
        }
      ]
    },
    {
      "cell_type": "code",
      "metadata": {
        "id": "oqWM6Mm26m7R"
      },
      "source": [
        "def faltu(x):\n",
        "  return (x+\"haa bhai\")"
      ],
      "execution_count": null,
      "outputs": []
    },
    {
      "cell_type": "code",
      "metadata": {
        "colab": {
          "base_uri": "https://localhost:8080/"
        },
        "id": "VV13NI7o6yW5",
        "outputId": "6a724333-c8e3-4169-e94f-16310961b0b1"
      },
      "source": [
        "v= lambda x:faltu(x)\n",
        "print(v(\"vansh\"))"
      ],
      "execution_count": null,
      "outputs": [
        {
          "output_type": "stream",
          "text": [
            "vanshhaa bhai\n"
          ],
          "name": "stdout"
        }
      ]
    },
    {
      "cell_type": "code",
      "metadata": {
        "colab": {
          "base_uri": "https://localhost:8080/"
        },
        "id": "6I-GAXtR79eC",
        "outputId": "a0c34b11-4917-4095-d1a4-99c40df09dd0"
      },
      "source": [
        "age=int(input(\"Enter your age\"))\n",
        "mn=int(input(\"Enter your magic number\"))\n",
        "x= lambda age:age+mn\n",
        "x(age)"
      ],
      "execution_count": null,
      "outputs": [
        {
          "output_type": "stream",
          "text": [
            "Enter your age17\n",
            "Enter your magic number3\n"
          ],
          "name": "stdout"
        },
        {
          "output_type": "execute_result",
          "data": {
            "text/plain": [
              "20"
            ]
          },
          "metadata": {
            "tags": []
          },
          "execution_count": 22
        }
      ]
    },
    {
      "cell_type": "code",
      "metadata": {
        "colab": {
          "base_uri": "https://localhost:8080/"
        },
        "id": "zEjcBPRJGRuq",
        "outputId": "13e3818d-a880-46c6-b5d9-37c4a52279cc"
      },
      "source": [
        "com1= 2+3j\n",
        "com2= 3+2j\n",
        "\n",
        "print(\"addition=\",com1+com2)\n",
        "print(\"difference is\",com1-com2)\n",
        "print(\"product is\",com1*com2)\n",
        "print(\"division is\",com1/com2)\n"
      ],
      "execution_count": null,
      "outputs": [
        {
          "output_type": "stream",
          "text": [
            "addition= (5+5j)\n",
            "difference is (-1+1j)\n",
            "product is 13j\n",
            "division is (0.9230769230769231+0.38461538461538464j)\n"
          ],
          "name": "stdout"
        }
      ]
    },
    {
      "cell_type": "code",
      "metadata": {
        "id": "7X9NEv7nN7tX"
      },
      "source": [
        "sent=\"vansh\"\n"
      ],
      "execution_count": null,
      "outputs": []
    },
    {
      "cell_type": "code",
      "metadata": {
        "id": "qYMhDp3zOyev"
      },
      "source": [
        "sent."
      ],
      "execution_count": null,
      "outputs": []
    },
    {
      "cell_type": "code",
      "metadata": {
        "colab": {
          "base_uri": "https://localhost:8080/"
        },
        "id": "FnSj8LvPaJ2I",
        "outputId": "4f70d141-6111-4eaf-e53a-72771e9c9a29"
      },
      "source": [
        "a=\"Russians are the scarriest white people\"\n",
        "v=a.split(' ')\n",
        "print(v)"
      ],
      "execution_count": null,
      "outputs": [
        {
          "output_type": "stream",
          "text": [
            "['Russians', 'are', 'the', 'scarriest', 'white', 'people']\n"
          ],
          "name": "stdout"
        }
      ]
    },
    {
      "cell_type": "code",
      "metadata": {
        "colab": {
          "base_uri": "https://localhost:8080/"
        },
        "id": "co_0-sGubE-w",
        "outputId": "546c6ce1-af10-40b7-c00f-bba679647513"
      },
      "source": [
        "l=[3.14,2.3,5,6,'vansh','anant']\n",
        "b=l+v\n",
        "print(b)"
      ],
      "execution_count": null,
      "outputs": [
        {
          "output_type": "stream",
          "text": [
            "[3.14, 2.3, 5, 6, 'vansh', 'anant', 'Russians', 'are', 'the', 'scarriest', 'white', 'people']\n"
          ],
          "name": "stdout"
        }
      ]
    },
    {
      "cell_type": "code",
      "metadata": {
        "colab": {
          "base_uri": "https://localhost:8080/"
        },
        "id": "AC8_6zdAbcZZ",
        "outputId": "7a3f74c4-8690-4d2d-c9c0-57e6addbd8b7"
      },
      "source": [
        "len(b)"
      ],
      "execution_count": null,
      "outputs": [
        {
          "output_type": "execute_result",
          "data": {
            "text/plain": [
              "12"
            ]
          },
          "metadata": {
            "tags": []
          },
          "execution_count": 6
        }
      ]
    },
    {
      "cell_type": "code",
      "metadata": {
        "colab": {
          "base_uri": "https://localhost:8080/"
        },
        "id": "kiyVidC_cGzQ",
        "outputId": "3232516d-f880-4fa2-b5c6-251ca42fdd56"
      },
      "source": [
        "for i in b:\n",
        "  print(\"{0} is the value, {1} is the datatype\".format(i,type(i)))\n"
      ],
      "execution_count": null,
      "outputs": [
        {
          "output_type": "stream",
          "text": [
            "3.14 is the value, <class 'float'> is the datatype\n",
            "2.3 is the value, <class 'float'> is the datatype\n",
            "5 is the value, <class 'int'> is the datatype\n",
            "6 is the value, <class 'int'> is the datatype\n",
            "vansh is the value, <class 'str'> is the datatype\n",
            "anant is the value, <class 'str'> is the datatype\n",
            "Russians is the value, <class 'str'> is the datatype\n",
            "are is the value, <class 'str'> is the datatype\n",
            "the is the value, <class 'str'> is the datatype\n",
            "scarriest is the value, <class 'str'> is the datatype\n",
            "white is the value, <class 'str'> is the datatype\n",
            "people is the value, <class 'str'> is the datatype\n"
          ],
          "name": "stdout"
        }
      ]
    },
    {
      "cell_type": "code",
      "metadata": {
        "colab": {
          "base_uri": "https://localhost:8080/"
        },
        "id": "0qnwXbv-ctXq",
        "outputId": "1037b471-ff76-4a05-d176-2f4bbec21361"
      },
      "source": [
        "m=[1,2,3,4,5]\n",
        "b.reverse()\n",
        "b"
      ],
      "execution_count": null,
      "outputs": [
        {
          "output_type": "execute_result",
          "data": {
            "text/plain": [
              "[5,\n",
              " 4,\n",
              " 3,\n",
              " 2,\n",
              " 1,\n",
              " 3,\n",
              " 3,\n",
              " 'white',\n",
              " 'scarriest',\n",
              " 'the',\n",
              " 'are',\n",
              " 'Russians',\n",
              " 'anant',\n",
              " 'vansh',\n",
              " 75,\n",
              " 6,\n",
              " 5,\n",
              " 3.14,\n",
              " 2.3]"
            ]
          },
          "metadata": {
            "tags": []
          },
          "execution_count": 45
        }
      ]
    },
    {
      "cell_type": "code",
      "metadata": {
        "colab": {
          "base_uri": "https://localhost:8080/"
        },
        "id": "y9SJCmB9fJ53",
        "outputId": "b4e3edfa-4924-4af7-9081-93a635c8ffd3"
      },
      "source": [
        "l=[2,4,5,3,1]\n",
        "l.reverse()\n",
        "l"
      ],
      "execution_count": null,
      "outputs": [
        {
          "output_type": "execute_result",
          "data": {
            "text/plain": [
              "[1, 3, 5, 4, 2]"
            ]
          },
          "metadata": {
            "tags": []
          },
          "execution_count": 40
        }
      ]
    },
    {
      "cell_type": "code",
      "metadata": {
        "colab": {
          "base_uri": "https://localhost:8080/"
        },
        "id": "GwSzVHkQf9Be",
        "outputId": "1887e040-35da-4fae-dd7a-ee6549c416c0"
      },
      "source": [
        "vansh=[\"hello\",\"I\",\"am\",\"Jarvis\"]\n",
        "vansh.reverse()\n",
        "vansh"
      ],
      "execution_count": null,
      "outputs": [
        {
          "output_type": "execute_result",
          "data": {
            "text/plain": [
              "['Jarvis', 'am', 'I', 'hello']"
            ]
          },
          "metadata": {
            "tags": []
          },
          "execution_count": 38
        }
      ]
    },
    {
      "cell_type": "code",
      "metadata": {
        "id": "YjD8BDhThnFh"
      },
      "source": [
        "a=\"I am Iron Man\"\n",
        "x=a.split()\n"
      ],
      "execution_count": null,
      "outputs": []
    },
    {
      "cell_type": "code",
      "metadata": {
        "colab": {
          "base_uri": "https://localhost:8080/"
        },
        "id": "VgtCRekbh4uy",
        "outputId": "8dd3c7e0-c361-405d-d10a-ae3f343afaae"
      },
      "source": [
        "x.sort()\n",
        "x"
      ],
      "execution_count": null,
      "outputs": [
        {
          "output_type": "execute_result",
          "data": {
            "text/plain": [
              "['I', 'Iron', 'Man', 'am']"
            ]
          },
          "metadata": {
            "tags": []
          },
          "execution_count": 58
        }
      ]
    },
    {
      "cell_type": "code",
      "metadata": {
        "id": "DEbb4d6KxG17"
      },
      "source": [
        "a=''' What I'm doing is far from “revolutionary” but I don't think it needs to be. I decided to rethink my approach to life (as many of us do) when I began feeling disillusioned and frustrated with the gap between the things that brought  fulfillment in my life and what I felt was being sold to me by society. What am I doing and why am I doing it? I’m drawn to the world of self-improvement, but we don't need any more \"gurus.\" What I'm offering here are my experiences and the insights I’m coming across as I seek to live with more purpose and depth.\n",
        "\n",
        "We live in an evolving and fast-paced world and I am exploring the habits and tools that will help me lead a meaningful, purpose-filled life (not just making more money or being more productive for productivity’s sakes). '''"
      ],
      "execution_count": null,
      "outputs": []
    },
    {
      "cell_type": "code",
      "metadata": {
        "colab": {
          "base_uri": "https://localhost:8080/"
        },
        "id": "a-j0WkhUxrxO",
        "outputId": "4e516993-260e-4af8-fb4e-885a93708ff0"
      },
      "source": [
        "import time\n",
        "start= time.perf_counter()\n",
        "b=a.split()\n",
        "print(b)\n",
        "stop= time.perf_counter()\n",
        "print(stop-start)"
      ],
      "execution_count": null,
      "outputs": [
        {
          "output_type": "stream",
          "text": [
            "['What', \"I'm\", 'doing', 'is', 'far', 'from', '“revolutionary”', 'but', 'I', \"don't\", 'think', 'it', 'needs', 'to', 'be.', 'I', 'decided', 'to', 'rethink', 'my', 'approach', 'to', 'life', '(as', 'many', 'of', 'us', 'do)', 'when', 'I', 'began', 'feeling', 'disillusioned', 'and', 'frustrated', 'with', 'the', 'gap', 'between', 'the', 'things', 'that', 'brought', 'fulfillment', 'in', 'my', 'life', 'and', 'what', 'I', 'felt', 'was', 'being', 'sold', 'to', 'me', 'by', 'society.', 'What', 'am', 'I', 'doing', 'and', 'why', 'am', 'I', 'doing', 'it?', 'I’m', 'drawn', 'to', 'the', 'world', 'of', 'self-improvement,', 'but', 'we', \"don't\", 'need', 'any', 'more', '\"gurus.\"', 'What', \"I'm\", 'offering', 'here', 'are', 'my', 'experiences', 'and', 'the', 'insights', 'I’m', 'coming', 'across', 'as', 'I', 'seek', 'to', 'live', 'with', 'more', 'purpose', 'and', 'depth.', 'We', 'live', 'in', 'an', 'evolving', 'and', 'fast-paced', 'world', 'and', 'I', 'am', 'exploring', 'the', 'habits', 'and', 'tools', 'that', 'will', 'help', 'me', 'lead', 'a', 'meaningful,', 'purpose-filled', 'life', '(not', 'just', 'making', 'more', 'money', 'or', 'being', 'more', 'productive', 'for', 'productivity’s', 'sakes).']\n",
            "0.0006283059999816487\n"
          ],
          "name": "stdout"
        }
      ]
    },
    {
      "cell_type": "code",
      "metadata": {
        "colab": {
          "base_uri": "https://localhost:8080/"
        },
        "id": "e0MkHZJlydUL",
        "outputId": "442ef5d8-2e1b-425b-bf13-f08751f0db3f"
      },
      "source": [
        "st=time.perf_counter()\n",
        "print(b.count('I'))\n",
        "toc=time.perf_counter()\n",
        "print(toc-st)"
      ],
      "execution_count": null,
      "outputs": [
        {
          "output_type": "stream",
          "text": [
            "1\n",
            "0.0002072970000881469\n"
          ],
          "name": "stdout"
        }
      ]
    },
    {
      "cell_type": "code",
      "metadata": {
        "colab": {
          "base_uri": "https://localhost:8080/"
        },
        "id": "Y8Mx_PbHzUkW",
        "outputId": "a088349e-940b-438b-ada5-6107b884b31e"
      },
      "source": [
        "s=time.perf_counter()\n",
        "c=list(set(b))\n",
        "print(c)\n",
        "print(c.count('I'))\n",
        "s2=time.perf_counter()"
      ],
      "execution_count": null,
      "outputs": [
        {
          "output_type": "stream",
          "text": [
            "['us', 'depth.', 'sakes).', \"don't\", 'that', 'productivity’s', 'it', 'of', 'fulfillment', 'and', 'doing', 'we', 'a', 'self-improvement,', 'more', 'feeling', 'in', 'from', 'lead', 'world', 'live', 'began', 'or', '(as', 'habits', 'across', 'think', 'I’m', 'tools', 'what', '\"gurus.\"', 'purpose', 'the', 'frustrated', 'life', 'approach', \"I'm\", 'me', 'felt', 'rethink', 'I', 'am', 'drawn', 'society.', 'why', 'be.', 'will', 'just', 'with', 'sold', 'help', 'by', 'any', 'fast-paced', '“revolutionary”', 'decided', 'but', 'is', 'here', 'experiences', 'was', 'productive', 'brought', 'making', 'far', 'when', 'do)', 'What', 'things', 'to', 'are', 'seek', 'being', 'purpose-filled', 'meaningful,', 'disillusioned', 'it?', 'need', 'evolving', 'many', 'between', 'We', 'money', 'my', 'offering', 'as', 'needs', 'exploring', 'for', 'gap', 'an', '(not', 'coming', 'insights']\n",
            "1\n"
          ],
          "name": "stdout"
        }
      ]
    },
    {
      "cell_type": "code",
      "metadata": {
        "colab": {
          "base_uri": "https://localhost:8080/"
        },
        "id": "qZ_ZmcPa04Hz",
        "outputId": "257a6e9d-b75e-4bd3-cd5c-8b8026216303"
      },
      "source": [
        "tup1=tuple(b)\n",
        "print(tup1)\n"
      ],
      "execution_count": null,
      "outputs": [
        {
          "output_type": "stream",
          "text": [
            "('us', 'depth.', 'sakes).', \"don't\", 'that', 'productivity’s', 'it', 'of', 'fulfillment', 'and', 'doing', 'we', 'a', 'self-improvement,', 'more', 'feeling', 'in', 'from', 'lead', 'world', 'live', 'began', 'or', '(as', 'habits', 'across', 'think', 'I’m', 'tools', '\"gurus.\"', 'what', 'purpose', 'the', 'frustrated', 'life', 'approach', \"I'm\", 'me', 'felt', 'rethink', 'I', 'am', 'drawn', 'society.', 'why', 'be.', 'will', 'just', 'with', 'sold', 'help', 'by', 'any', 'fast-paced', '“revolutionary”', 'decided', 'but', 'is', 'here', 'experiences', 'was', 'productive', 'brought', 'making', 'far', 'when', 'do)', 'What', 'things', 'to', 'are', 'seek', 'being', 'purpose-filled', 'meaningful,', 'disillusioned', 'it?', 'need', 'evolving', 'many', 'between', 'We', 'money', 'my', 'offering', 'as', 'needs', 'exploring', 'for', 'gap', 'an', '(not', 'coming', 'insights')\n"
          ],
          "name": "stdout"
        }
      ]
    },
    {
      "cell_type": "code",
      "metadata": {
        "colab": {
          "base_uri": "https://localhost:8080/"
        },
        "id": "j7vuJ2I01Jt-",
        "outputId": "c35af712-9125-4666-ac49-059e7ad31a7a"
      },
      "source": [
        "print(len(tup1))\n",
        "print(len(b))"
      ],
      "execution_count": null,
      "outputs": [
        {
          "output_type": "stream",
          "text": [
            "94\n",
            "94\n"
          ],
          "name": "stdout"
        }
      ]
    },
    {
      "cell_type": "code",
      "metadata": {
        "colab": {
          "base_uri": "https://localhost:8080/"
        },
        "id": "bzs-W1mx1bAf",
        "outputId": "24ea4cf6-6eed-4525-d4c2-eb5f970d5d25"
      },
      "source": [
        "tup1.count('I')"
      ],
      "execution_count": null,
      "outputs": [
        {
          "output_type": "execute_result",
          "data": {
            "text/plain": [
              "1"
            ]
          },
          "metadata": {
            "tags": []
          },
          "execution_count": 23
        }
      ]
    },
    {
      "cell_type": "code",
      "metadata": {
        "colab": {
          "base_uri": "https://localhost:8080/"
        },
        "id": "iIka4BXC3DbK",
        "outputId": "e0a1f7d5-2798-4022-898c-619f1a8b8d88"
      },
      "source": [
        "tup1.index('is')"
      ],
      "execution_count": null,
      "outputs": [
        {
          "output_type": "execute_result",
          "data": {
            "text/plain": [
              "57"
            ]
          },
          "metadata": {
            "tags": []
          },
          "execution_count": 25
        }
      ]
    },
    {
      "cell_type": "code",
      "metadata": {
        "colab": {
          "base_uri": "https://localhost:8080/"
        },
        "id": "ifNab49u3R_l",
        "outputId": "57d50cc3-1cd8-41b4-85d8-266605d1176c"
      },
      "source": [
        "print(tup1[57:59])"
      ],
      "execution_count": null,
      "outputs": [
        {
          "output_type": "stream",
          "text": [
            "('is', 'here')\n"
          ],
          "name": "stdout"
        }
      ]
    },
    {
      "cell_type": "code",
      "metadata": {
        "colab": {
          "base_uri": "https://localhost:8080/"
        },
        "id": "cKrbKehWowOD",
        "outputId": "9f863eef-e6b3-44da-ccd1-34739870bef3"
      },
      "source": [
        "number=[56,56,1,23,15,1]\n",
        "for i in number:\n",
        "  for j in number:\n",
        "    if(i==j):\n",
        "      c=number.index(j)\n",
        "      a=number.pop(c)\n",
        "      \n",
        "print(number)"
      ],
      "execution_count": null,
      "outputs": [
        {
          "output_type": "stream",
          "text": [
            "[56, 23]\n"
          ],
          "name": "stdout"
        }
      ]
    }
  ]
}